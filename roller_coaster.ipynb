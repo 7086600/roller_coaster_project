{
 "cells": [
  {
   "cell_type": "markdown",
   "metadata": {},
   "source": [
    "# Roller Coaster\n",
    "***"
   ]
  },
  {
   "cell_type": "markdown",
   "metadata": {},
   "source": [
    "## Project Requirements"
   ]
  },
  {
   "cell_type": "markdown",
   "metadata": {},
   "source": [
    "Load each csv into a DataFrame and inspect it to gain familiarity with the data."
   ]
  },
  {
   "cell_type": "code",
   "execution_count": 22,
   "metadata": {},
   "outputs": [],
   "source": [
    "# 1 \n",
    "# Import necessary libraries\n",
    "import pandas as pd\n",
    "import matplotlib.pyplot as plt\n",
    "import seaborn as sns"
   ]
  },
  {
   "cell_type": "code",
   "execution_count": 114,
   "metadata": {},
   "outputs": [],
   "source": [
    "# display charts correctly\n",
    "%matplotlib inline\n",
    "plt.rcParams['figure.figsize'] = (8, 5)\n",
    "plt.rcParams['figure.dpi'] = 80\n",
    "plt.rcParams['axes.titlesize'] = 10\n",
    "plt.rcParams['font.size'] = 8"
   ]
  },
  {
   "cell_type": "code",
   "execution_count": 21,
   "metadata": {},
   "outputs": [
    {
     "name": "stdout",
     "output_type": "stream",
     "text": [
      "(180, 8)\n",
      "(180, 8)\n"
     ]
    }
   ],
   "source": [
    "# load rankings data\n",
    "wood_rc = pd.read_csv('Golden_Ticket_Award_Winners_Wood.csv') # rc - means roller coaster\n",
    "print(wood_rc.shape)\n",
    "# load rankings data\n",
    "steel_rc = pd.read_csv('Golden_Ticket_Award_Winners_Steel.csv')\n",
    "print(steel_rc.shape)\n"
   ]
  },
  {
   "cell_type": "code",
   "execution_count": 87,
   "metadata": {},
   "outputs": [
    {
     "data": {
      "text/html": [
       "<div>\n",
       "<style scoped>\n",
       "    .dataframe tbody tr th:only-of-type {\n",
       "        vertical-align: middle;\n",
       "    }\n",
       "\n",
       "    .dataframe tbody tr th {\n",
       "        vertical-align: top;\n",
       "    }\n",
       "\n",
       "    .dataframe thead th {\n",
       "        text-align: right;\n",
       "    }\n",
       "</style>\n",
       "<table border=\"1\" class=\"dataframe\">\n",
       "  <thead>\n",
       "    <tr style=\"text-align: right;\">\n",
       "      <th></th>\n",
       "      <th>Rank</th>\n",
       "      <th>Name</th>\n",
       "      <th>Park</th>\n",
       "      <th>Location</th>\n",
       "      <th>Supplier</th>\n",
       "      <th>Year Built</th>\n",
       "      <th>Points</th>\n",
       "      <th>Year of Rank</th>\n",
       "    </tr>\n",
       "  </thead>\n",
       "  <tbody>\n",
       "    <tr>\n",
       "      <th>0</th>\n",
       "      <td>1</td>\n",
       "      <td>Boulder Dash</td>\n",
       "      <td>Lake Compounce</td>\n",
       "      <td>Bristol, Conn.</td>\n",
       "      <td>CCI</td>\n",
       "      <td>2000</td>\n",
       "      <td>1333</td>\n",
       "      <td>2013</td>\n",
       "    </tr>\n",
       "    <tr>\n",
       "      <th>1</th>\n",
       "      <td>2</td>\n",
       "      <td>El Toro</td>\n",
       "      <td>Six Flags Great Adventure</td>\n",
       "      <td>Jackson, N.J.</td>\n",
       "      <td>Intamin</td>\n",
       "      <td>2006</td>\n",
       "      <td>1302</td>\n",
       "      <td>2013</td>\n",
       "    </tr>\n",
       "    <tr>\n",
       "      <th>2</th>\n",
       "      <td>3</td>\n",
       "      <td>Phoenix</td>\n",
       "      <td>Knoebels Amusement Resort</td>\n",
       "      <td>Elysburg, Pa.</td>\n",
       "      <td>Dinn/PTC-Schmeck</td>\n",
       "      <td>1985</td>\n",
       "      <td>1088</td>\n",
       "      <td>2013</td>\n",
       "    </tr>\n",
       "    <tr>\n",
       "      <th>3</th>\n",
       "      <td>4</td>\n",
       "      <td>The Voyage</td>\n",
       "      <td>Holiday World</td>\n",
       "      <td>Santa Claus, Ind.</td>\n",
       "      <td>Gravity Group</td>\n",
       "      <td>2006</td>\n",
       "      <td>1086</td>\n",
       "      <td>2013</td>\n",
       "    </tr>\n",
       "    <tr>\n",
       "      <th>4</th>\n",
       "      <td>5</td>\n",
       "      <td>Thunderhead</td>\n",
       "      <td>Dollywood</td>\n",
       "      <td>Pigeon Forge, Tenn.</td>\n",
       "      <td>GCII</td>\n",
       "      <td>2004</td>\n",
       "      <td>923</td>\n",
       "      <td>2013</td>\n",
       "    </tr>\n",
       "  </tbody>\n",
       "</table>\n",
       "</div>"
      ],
      "text/plain": [
       "   Rank          Name                       Park             Location  \\\n",
       "0     1  Boulder Dash             Lake Compounce       Bristol, Conn.   \n",
       "1     2       El Toro  Six Flags Great Adventure        Jackson, N.J.   \n",
       "2     3       Phoenix  Knoebels Amusement Resort        Elysburg, Pa.   \n",
       "3     4    The Voyage              Holiday World    Santa Claus, Ind.   \n",
       "4     5   Thunderhead                  Dollywood  Pigeon Forge, Tenn.   \n",
       "\n",
       "           Supplier  Year Built  Points  Year of Rank  \n",
       "0               CCI        2000    1333          2013  \n",
       "1           Intamin        2006    1302          2013  \n",
       "2  Dinn/PTC-Schmeck        1985    1088          2013  \n",
       "3     Gravity Group        2006    1086          2013  \n",
       "4              GCII        2004     923          2013  "
      ]
     },
     "execution_count": 87,
     "metadata": {},
     "output_type": "execute_result"
    }
   ],
   "source": [
    "wood_rc.head()"
   ]
  },
  {
   "cell_type": "code",
   "execution_count": 6,
   "metadata": {},
   "outputs": [
    {
     "data": {
      "text/html": [
       "<div>\n",
       "<style scoped>\n",
       "    .dataframe tbody tr th:only-of-type {\n",
       "        vertical-align: middle;\n",
       "    }\n",
       "\n",
       "    .dataframe tbody tr th {\n",
       "        vertical-align: top;\n",
       "    }\n",
       "\n",
       "    .dataframe thead th {\n",
       "        text-align: right;\n",
       "    }\n",
       "</style>\n",
       "<table border=\"1\" class=\"dataframe\">\n",
       "  <thead>\n",
       "    <tr style=\"text-align: right;\">\n",
       "      <th></th>\n",
       "      <th>Rank</th>\n",
       "      <th>Name</th>\n",
       "      <th>Park</th>\n",
       "      <th>Location</th>\n",
       "      <th>Supplier</th>\n",
       "      <th>Year Built</th>\n",
       "      <th>Points</th>\n",
       "      <th>Year of Rank</th>\n",
       "    </tr>\n",
       "  </thead>\n",
       "  <tbody>\n",
       "    <tr>\n",
       "      <th>0</th>\n",
       "      <td>1</td>\n",
       "      <td>Millennium Force</td>\n",
       "      <td>Cedar Point</td>\n",
       "      <td>Sandusky, Ohio</td>\n",
       "      <td>Intamin</td>\n",
       "      <td>2000</td>\n",
       "      <td>1204</td>\n",
       "      <td>2013</td>\n",
       "    </tr>\n",
       "    <tr>\n",
       "      <th>1</th>\n",
       "      <td>2</td>\n",
       "      <td>Bizarro</td>\n",
       "      <td>Six Flags New England</td>\n",
       "      <td>Agawam, Mass.</td>\n",
       "      <td>Intamin</td>\n",
       "      <td>2000</td>\n",
       "      <td>1011</td>\n",
       "      <td>2013</td>\n",
       "    </tr>\n",
       "    <tr>\n",
       "      <th>2</th>\n",
       "      <td>3</td>\n",
       "      <td>Expedition GeForce</td>\n",
       "      <td>Holiday Park</td>\n",
       "      <td>Hassloch, Germany</td>\n",
       "      <td>Intamin</td>\n",
       "      <td>2001</td>\n",
       "      <td>598</td>\n",
       "      <td>2013</td>\n",
       "    </tr>\n",
       "    <tr>\n",
       "      <th>3</th>\n",
       "      <td>4</td>\n",
       "      <td>Nitro</td>\n",
       "      <td>Six Flags Great Adventure</td>\n",
       "      <td>Jackson, N.J.</td>\n",
       "      <td>B&amp;M</td>\n",
       "      <td>2001</td>\n",
       "      <td>596</td>\n",
       "      <td>2013</td>\n",
       "    </tr>\n",
       "    <tr>\n",
       "      <th>4</th>\n",
       "      <td>5</td>\n",
       "      <td>Apollo’s Chariot</td>\n",
       "      <td>Busch Gardens Williamsburg</td>\n",
       "      <td>Williamsburg, Va.</td>\n",
       "      <td>B&amp;M</td>\n",
       "      <td>1999</td>\n",
       "      <td>542</td>\n",
       "      <td>2013</td>\n",
       "    </tr>\n",
       "  </tbody>\n",
       "</table>\n",
       "</div>"
      ],
      "text/plain": [
       "   Rank                Name                        Park           Location  \\\n",
       "0     1    Millennium Force                 Cedar Point     Sandusky, Ohio   \n",
       "1     2             Bizarro       Six Flags New England      Agawam, Mass.   \n",
       "2     3  Expedition GeForce                Holiday Park  Hassloch, Germany   \n",
       "3     4               Nitro   Six Flags Great Adventure      Jackson, N.J.   \n",
       "4     5    Apollo’s Chariot  Busch Gardens Williamsburg  Williamsburg, Va.   \n",
       "\n",
       "  Supplier  Year Built  Points  Year of Rank  \n",
       "0  Intamin        2000    1204          2013  \n",
       "1  Intamin        2000    1011          2013  \n",
       "2  Intamin        2001     598          2013  \n",
       "3      B&M        2001     596          2013  \n",
       "4      B&M        1999     542          2013  "
      ]
     },
     "execution_count": 6,
     "metadata": {},
     "output_type": "execute_result"
    }
   ],
   "source": [
    "steel_rc.head()"
   ]
  },
  {
   "cell_type": "markdown",
   "metadata": {},
   "source": [
    "The Golden Ticket Awards datasets include the following columns:\n",
    "\n",
    "- Rank: rank of the roller coaster in a given year\n",
    "- Name: name of the roller coaster\n",
    "- Park: amusement park where the roller coaster is located\n",
    "- Location: location of the amusement park where the roller coaster is located\n",
    "- Supplier: manufacturer of the roller coaster\n",
    "- Year Built: year the roller coaster was built\n",
    "- Points: points scored in a given year’s ranking\n",
    "- Year of Rank: year the roller coaster achieved a given rank\n",
    "\n",
    "Some questions that interest:\n",
    "- How many roller coasters are included in each ranking dataset?\n",
    "- How many different roller coaster suppliers are included in the rankings?\n",
    "- Do some years include more rankings than other years?"
   ]
  },
  {
   "cell_type": "code",
   "execution_count": 10,
   "metadata": {},
   "outputs": [
    {
     "name": "stdout",
     "output_type": "stream",
     "text": [
      "There are 61 unique wooden roller coasters.\n",
      "There are 63 unique steel roller coasters.\n"
     ]
    }
   ],
   "source": [
    "print(f\"There are {wood_rc['Name'].nunique()} unique wooden roller coasters.\")\n",
    "print(f\"There are {steel_rc['Name'].nunique()} unique steel roller coasters.\")"
   ]
  },
  {
   "cell_type": "code",
   "execution_count": 12,
   "metadata": {},
   "outputs": [
    {
     "name": "stdout",
     "output_type": "stream",
     "text": [
      "There are 47 unique roller coasters suppliers.\n"
     ]
    }
   ],
   "source": [
    "print(f\"There are {wood_rc['Supplier'].nunique() + steel_rc['Supplier'].nunique()} unique roller coasters suppliers.\")"
   ]
  },
  {
   "cell_type": "code",
   "execution_count": 18,
   "metadata": {},
   "outputs": [
    {
     "name": "stdout",
     "output_type": "stream",
     "text": [
      "The number of ratings per year for wooden roller coasters:\n"
     ]
    },
    {
     "data": {
      "text/html": [
       "<div>\n",
       "<style scoped>\n",
       "    .dataframe tbody tr th:only-of-type {\n",
       "        vertical-align: middle;\n",
       "    }\n",
       "\n",
       "    .dataframe tbody tr th {\n",
       "        vertical-align: top;\n",
       "    }\n",
       "\n",
       "    .dataframe thead th {\n",
       "        text-align: right;\n",
       "    }\n",
       "</style>\n",
       "<table border=\"1\" class=\"dataframe\">\n",
       "  <thead>\n",
       "    <tr style=\"text-align: right;\">\n",
       "      <th></th>\n",
       "      <th>Year of Rank</th>\n",
       "      <th>number of ratings</th>\n",
       "    </tr>\n",
       "  </thead>\n",
       "  <tbody>\n",
       "    <tr>\n",
       "      <th>0</th>\n",
       "      <td>2013</td>\n",
       "      <td>10</td>\n",
       "    </tr>\n",
       "    <tr>\n",
       "      <th>1</th>\n",
       "      <td>2014</td>\n",
       "      <td>10</td>\n",
       "    </tr>\n",
       "    <tr>\n",
       "      <th>2</th>\n",
       "      <td>2015</td>\n",
       "      <td>10</td>\n",
       "    </tr>\n",
       "    <tr>\n",
       "      <th>3</th>\n",
       "      <td>2016</td>\n",
       "      <td>50</td>\n",
       "    </tr>\n",
       "    <tr>\n",
       "      <th>4</th>\n",
       "      <td>2017</td>\n",
       "      <td>50</td>\n",
       "    </tr>\n",
       "    <tr>\n",
       "      <th>5</th>\n",
       "      <td>2018</td>\n",
       "      <td>50</td>\n",
       "    </tr>\n",
       "  </tbody>\n",
       "</table>\n",
       "</div>"
      ],
      "text/plain": [
       "   Year of Rank  number of ratings\n",
       "0          2013                 10\n",
       "1          2014                 10\n",
       "2          2015                 10\n",
       "3          2016                 50\n",
       "4          2017                 50\n",
       "5          2018                 50"
      ]
     },
     "execution_count": 18,
     "metadata": {},
     "output_type": "execute_result"
    }
   ],
   "source": [
    "print('The number of ratings per year for wooden roller coasters:')\n",
    "wood_rc.groupby('Year of Rank')['Rank'].count().reset_index(name='number of ratings')"
   ]
  },
  {
   "cell_type": "code",
   "execution_count": 19,
   "metadata": {},
   "outputs": [
    {
     "name": "stdout",
     "output_type": "stream",
     "text": [
      "The number of ratings per year for steel roller coasters:\n"
     ]
    },
    {
     "data": {
      "text/html": [
       "<div>\n",
       "<style scoped>\n",
       "    .dataframe tbody tr th:only-of-type {\n",
       "        vertical-align: middle;\n",
       "    }\n",
       "\n",
       "    .dataframe tbody tr th {\n",
       "        vertical-align: top;\n",
       "    }\n",
       "\n",
       "    .dataframe thead th {\n",
       "        text-align: right;\n",
       "    }\n",
       "</style>\n",
       "<table border=\"1\" class=\"dataframe\">\n",
       "  <thead>\n",
       "    <tr style=\"text-align: right;\">\n",
       "      <th></th>\n",
       "      <th>Year of Rank</th>\n",
       "      <th>number of ratings</th>\n",
       "    </tr>\n",
       "  </thead>\n",
       "  <tbody>\n",
       "    <tr>\n",
       "      <th>0</th>\n",
       "      <td>2013</td>\n",
       "      <td>10</td>\n",
       "    </tr>\n",
       "    <tr>\n",
       "      <th>1</th>\n",
       "      <td>2014</td>\n",
       "      <td>10</td>\n",
       "    </tr>\n",
       "    <tr>\n",
       "      <th>2</th>\n",
       "      <td>2015</td>\n",
       "      <td>10</td>\n",
       "    </tr>\n",
       "    <tr>\n",
       "      <th>3</th>\n",
       "      <td>2016</td>\n",
       "      <td>50</td>\n",
       "    </tr>\n",
       "    <tr>\n",
       "      <th>4</th>\n",
       "      <td>2017</td>\n",
       "      <td>50</td>\n",
       "    </tr>\n",
       "    <tr>\n",
       "      <th>5</th>\n",
       "      <td>2018</td>\n",
       "      <td>50</td>\n",
       "    </tr>\n",
       "  </tbody>\n",
       "</table>\n",
       "</div>"
      ],
      "text/plain": [
       "   Year of Rank  number of ratings\n",
       "0          2013                 10\n",
       "1          2014                 10\n",
       "2          2015                 10\n",
       "3          2016                 50\n",
       "4          2017                 50\n",
       "5          2018                 50"
      ]
     },
     "execution_count": 19,
     "metadata": {},
     "output_type": "execute_result"
    }
   ],
   "source": [
    "print('The number of ratings per year for steel roller coasters:')\n",
    "steel_rc.groupby('Year of Rank')['Rank'].count().reset_index(name='number of ratings')"
   ]
  },
  {
   "cell_type": "markdown",
   "metadata": {},
   "source": [
    "2. Write a function that will plot the ranking of a given roller coaster over time as a line. Your function should take a roller coaster's name and a ranking DataFrame as arguments. Make sure to include informative labels that describe your visualization.\n",
    "\n",
    "   Call your function with `\"El Toro\"` as the roller coaster name and the wood ranking DataFrame. What issue do you notice? Update your function with an additional argument to alleviate the problem, and retest your function."
   ]
  },
  {
   "cell_type": "code",
   "execution_count": 80,
   "metadata": {},
   "outputs": [
    {
     "data": {
      "image/png": "[encoded data removed]",
      "text/plain": [
       "<Figure size 640x400 with 1 Axes>"
      ]
     },
     "metadata": {},
     "output_type": "display_data"
    }
   ],
   "source": [
    "# 2\n",
    "# Create a function to plot rankings over time for 1 roller coaster\n",
    "def plot_rc_rankings(data, rc_name, park_name):\n",
    "    if rc_name in data['Name'].values:\n",
    "        rc_data = data[(data['Name'] == rc_name)]\n",
    "        if park_name in rc_data['Park'].values:\n",
    "            rc_data = rc_data[rc_data['Park'] == park_name]\n",
    "            plt.figure()\n",
    "            plt.plot(rc_data['Year of Rank'], rc_data['Rank'], marker='o')\n",
    "            plt.title(f'Ranking of {rc_name} at {park_name} Over Time')\n",
    "            plt.xlabel('Year')\n",
    "            plt.ylabel('Rank')            \n",
    "            plt.show()\n",
    "        else:\n",
    "            print(f\"{rc_name} is not located in {park_name}.\")    \n",
    "            return\n",
    "    else:\n",
    "        print(f\"{rc_name} not found in the dataset.\")\n",
    "        return\n",
    "\n",
    "# Create a plot of El Toro ranking over time\n",
    "plot_rc_rankings(wood_rc, 'El Toro', 'Six Flags Great Adventure')"
   ]
  },
  {
   "cell_type": "markdown",
   "metadata": {},
   "source": [
    "3. Write a function that will plot the ranking of two given roller coasters over time as lines. Your function should take both roller coasters' names and a ranking DataFrame as arguments. Make sure to include informative labels that describe your visualization.\n",
    "\n",
    "   Call your function with `\"El Toro\"` as one roller coaster name, `\"Boulder Dash\"` as the other roller coaster name, and the wood ranking DataFrame. What issue do you notice? Update your function with two additional arguments to alleviate the problem, and retest your function."
   ]
  },
  {
   "cell_type": "code",
   "execution_count": 115,
   "metadata": {},
   "outputs": [
    {
     "data": {
      "image/png": "[encoded data removed]",
      "text/plain": [
       "<Figure size 640x400 with 1 Axes>"
      ]
     },
     "metadata": {},
     "output_type": "display_data"
    }
   ],
   "source": [
    "# 3\n",
    "# Create a function to plot rankings over time for 2 roller coasters\n",
    "def plot_two_rc_rankings(data, rc_name1, park_name1, rc_name2, park_name2):\n",
    "    if (rc_name1 in data['Name'].values) & (rc_name2 in data['Name'].values):\n",
    "        filt_name = data['Name'].isin([rc_name1, rc_name2]) # mask for filtering roller coasters by names\n",
    "        rc_data = data.loc[filt_name, :]\n",
    "        if (park_name1 in rc_data['Park'].values) & (park_name2 in rc_data['Park'].values):\n",
    "            filt_park = rc_data['Park'].isin([park_name1, park_name2]) # mask for filtering roller coasters by parks\n",
    "            rc_data = rc_data.loc[filt_park, :]\n",
    "            \n",
    "            filt_rc1 = rc_data['Name'] == rc_name1\n",
    "            rc_data1 = rc_data.loc[filt_rc1, :] # filter data for the first roller coaster\n",
    "            filt_rc2 = rc_data['Name'] == rc_name2\n",
    "            rc_data2 = rc_data.loc[filt_rc2, :] # filter data for the second roller coaster\n",
    "\n",
    "            plt.figure()\n",
    "            plt.plot(rc_data1['Year of Rank'], rc_data1['Rank'], marker='o', label=rc_name1) # plot for the first roller coaster\n",
    "            plt.plot(rc_data2['Year of Rank'], rc_data2['Rank'], marker='o', label=rc_name2) # plot for the second roller coaster\n",
    "            plt.title(f'Ranking of roller coasters Over Time')\n",
    "            plt.xlabel('Year')\n",
    "            plt.ylabel('Rank')\n",
    "            plt.legend()\n",
    "            plt.show()\n",
    "        else:\n",
    "            print(\"One or both roller coasters not found in the specified parks.\")    \n",
    "            return\n",
    "    else:\n",
    "        print(\"One or both roller coasters not found in the dataset.\")\n",
    "        return\n",
    "# Create a plot of El Toro and Boulder Dash roller coasters\n",
    "plot_two_rc_rankings(wood_rc, 'El Toro', 'Six Flags Great Adventure', 'Boulder Dash', 'Lake Compounce')"
   ]
  },
  {
   "cell_type": "markdown",
   "metadata": {},
   "source": [
    "4. Write a function that will plot the ranking of the top `n` ranked roller coasters over time as lines. Your function should take a number `n` and a ranking DataFrame as arguments. Make sure to include informative labels that describe your visualization.\n",
    "\n",
    "   For example, if `n == 5`, your function should plot a line for each roller coaster that has a rank of `5` or lower.\n",
    "   \n",
    "   Call your function with a value of `n` and either the wood ranking or steel ranking DataFrame."
   ]
  },
  {
   "cell_type": "code",
   "execution_count": 99,
   "metadata": {},
   "outputs": [
    {
     "data": {
      "text/html": [
       "<div>\n",
       "<style scoped>\n",
       "    .dataframe tbody tr th:only-of-type {\n",
       "        vertical-align: middle;\n",
       "    }\n",
       "\n",
       "    .dataframe tbody tr th {\n",
       "        vertical-align: top;\n",
       "    }\n",
       "\n",
       "    .dataframe thead th {\n",
       "        text-align: right;\n",
       "    }\n",
       "</style>\n",
       "<table border=\"1\" class=\"dataframe\">\n",
       "  <thead>\n",
       "    <tr style=\"text-align: right;\">\n",
       "      <th></th>\n",
       "      <th>Rank</th>\n",
       "      <th>Name</th>\n",
       "      <th>Park</th>\n",
       "      <th>Location</th>\n",
       "      <th>Supplier</th>\n",
       "      <th>Year Built</th>\n",
       "      <th>Points</th>\n",
       "      <th>Year of Rank</th>\n",
       "    </tr>\n",
       "  </thead>\n",
       "  <tbody>\n",
       "    <tr>\n",
       "      <th>0</th>\n",
       "      <td>1</td>\n",
       "      <td>Boulder Dash</td>\n",
       "      <td>Lake Compounce</td>\n",
       "      <td>Bristol, Conn.</td>\n",
       "      <td>CCI</td>\n",
       "      <td>2000</td>\n",
       "      <td>1333</td>\n",
       "      <td>2013</td>\n",
       "    </tr>\n",
       "    <tr>\n",
       "      <th>1</th>\n",
       "      <td>2</td>\n",
       "      <td>El Toro</td>\n",
       "      <td>Six Flags Great Adventure</td>\n",
       "      <td>Jackson, N.J.</td>\n",
       "      <td>Intamin</td>\n",
       "      <td>2006</td>\n",
       "      <td>1302</td>\n",
       "      <td>2013</td>\n",
       "    </tr>\n",
       "    <tr>\n",
       "      <th>2</th>\n",
       "      <td>3</td>\n",
       "      <td>Phoenix</td>\n",
       "      <td>Knoebels Amusement Resort</td>\n",
       "      <td>Elysburg, Pa.</td>\n",
       "      <td>Dinn/PTC-Schmeck</td>\n",
       "      <td>1985</td>\n",
       "      <td>1088</td>\n",
       "      <td>2013</td>\n",
       "    </tr>\n",
       "    <tr>\n",
       "      <th>3</th>\n",
       "      <td>4</td>\n",
       "      <td>The Voyage</td>\n",
       "      <td>Holiday World</td>\n",
       "      <td>Santa Claus, Ind.</td>\n",
       "      <td>Gravity Group</td>\n",
       "      <td>2006</td>\n",
       "      <td>1086</td>\n",
       "      <td>2013</td>\n",
       "    </tr>\n",
       "    <tr>\n",
       "      <th>4</th>\n",
       "      <td>5</td>\n",
       "      <td>Thunderhead</td>\n",
       "      <td>Dollywood</td>\n",
       "      <td>Pigeon Forge, Tenn.</td>\n",
       "      <td>GCII</td>\n",
       "      <td>2004</td>\n",
       "      <td>923</td>\n",
       "      <td>2013</td>\n",
       "    </tr>\n",
       "  </tbody>\n",
       "</table>\n",
       "</div>"
      ],
      "text/plain": [
       "   Rank          Name                       Park             Location  \\\n",
       "0     1  Boulder Dash             Lake Compounce       Bristol, Conn.   \n",
       "1     2       El Toro  Six Flags Great Adventure        Jackson, N.J.   \n",
       "2     3       Phoenix  Knoebels Amusement Resort        Elysburg, Pa.   \n",
       "3     4    The Voyage              Holiday World    Santa Claus, Ind.   \n",
       "4     5   Thunderhead                  Dollywood  Pigeon Forge, Tenn.   \n",
       "\n",
       "           Supplier  Year Built  Points  Year of Rank  \n",
       "0               CCI        2000    1333          2013  \n",
       "1           Intamin        2006    1302          2013  \n",
       "2  Dinn/PTC-Schmeck        1985    1088          2013  \n",
       "3     Gravity Group        2006    1086          2013  \n",
       "4              GCII        2004     923          2013  "
      ]
     },
     "execution_count": 99,
     "metadata": {},
     "output_type": "execute_result"
    }
   ],
   "source": [
    "filt_rank = wood_rc['Rank'] <= 5\n",
    "top_wood_rc = wood_rc.loc[filt_rank, :]\n",
    "top_wood_rc.head()\n",
    "\n"
   ]
  },
  {
   "cell_type": "code",
   "execution_count": 125,
   "metadata": {},
   "outputs": [
    {
     "data": {
      "image/png": "[encoded data removed]",
      "text/plain": [
       "<Figure size 640x400 with 1 Axes>"
      ]
     },
     "metadata": {},
     "output_type": "display_data"
    }
   ],
   "source": [
    "# 4\n",
    "# Create a function to plot top n rankings over time\n",
    "def top_rc_plot(data, n):\n",
    "    filt_rank = (data['Rank'] <= n) # mask for filtering top n rankings\n",
    "    top_rc_data = data.loc[filt_rank, :]\n",
    "    top_rc_list = top_rc_data['Name'].unique().tolist()\n",
    "    ranks = top_rc_data['Rank'].unique().tolist()\n",
    "    plt.figure()\n",
    "    for name in top_rc_list:\n",
    "        filt_name = (top_rc_data['Name'] == name)\n",
    "        rc_data = top_rc_data.loc[filt_name, :]\n",
    "        plt.plot(rc_data['Year of Rank'], rc_data['Rank'], marker='o', markersize=3, label=name)\n",
    "    plt.title(f'Top {len(top_rc_list)} Roller Coaster Rankings Over Time')\n",
    "    plt.xlabel('Year')\n",
    "    plt.ylabel('Rank')\n",
    "    plt.yticks(ranks)\n",
    "    plt.legend(bbox_to_anchor=(1.05, 1), loc='upper left')\n",
    "    plt.show()\n",
    "\n",
    "    # Create a plot of top n rankings over time\n",
    "top_rc_plot(wood_rc, 3)"
   ]
  },
  {
   "cell_type": "markdown",
   "metadata": {},
   "source": [
    "5. Now that you've visualized rankings over time, let's dive into the actual statistics of roller coasters themselves. [Captain Coaster](https://captaincoaster.com/en/) is a popular site for recording roller coaster information. Data on all roller coasters documented on Captain Coaster has been accessed through its API and stored in `roller_coasters.csv`. Load the data from the csv into a DataFrame and inspect it to gain familiarity with the data."
   ]
  },
  {
   "cell_type": "code",
   "execution_count": 5,
   "metadata": {},
   "outputs": [],
   "source": [
    "# 5\n",
    "# load roller coaster data\n"
   ]
  },
  {
   "cell_type": "markdown",
   "metadata": {},
   "source": [
    "6. Write a function that plots a histogram of any numeric column of the roller coaster DataFrame. Your function should take a DataFrame and a column name for which a histogram should be constructed as arguments. Make sure to include informative labels that describe your visualization.\n",
    "\n",
    "   Call your function with the roller coaster DataFrame and one of the column names."
   ]
  },
  {
   "cell_type": "code",
   "execution_count": 6,
   "metadata": {},
   "outputs": [],
   "source": [
    "# 6\n",
    "# Create a function to plot histogram of column values\n",
    "\n",
    "# Create histogram of roller coaster speed\n",
    "\n",
    "# Create histogram of roller coaster length\n",
    "\n",
    "# Create histogram of roller coaster number of inversions\n",
    "\n",
    "# Create a function to plot histogram of height values\n",
    "\n",
    "# Create a histogram of roller coaster height\n"
   ]
  },
  {
   "cell_type": "markdown",
   "metadata": {},
   "source": [
    "7. Write a function that creates a bar chart showing the number of inversions for each roller coaster at an amusement park. Your function should take the roller coaster DataFrame and an amusement park name as arguments. Make sure to include informative labels that describe your visualization.\n",
    "\n",
    "   Call your function with the roller coaster DataFrame and amusement park name."
   ]
  },
  {
   "cell_type": "code",
   "execution_count": 7,
   "metadata": {},
   "outputs": [],
   "source": [
    "# 7\n",
    "# Create a function to plot inversions by coaster at park\n",
    "\n",
    "# Create barplot of inversions by roller coasters\n"
   ]
  },
  {
   "cell_type": "markdown",
   "metadata": {},
   "source": [
    "8. Write a function that creates a pie chart that compares the number of operating roller coasters (`'status.operating'`) to the number of closed roller coasters (`'status.closed.definitely'`). Your function should take the roller coaster DataFrame as an argument. Make sure to include informative labels that describe your visualization.\n",
    "\n",
    "   Call your function with the roller coaster DataFrame."
   ]
  },
  {
   "cell_type": "code",
   "execution_count": 8,
   "metadata": {},
   "outputs": [],
   "source": [
    "# 8\n",
    "# Create a function to plot a pie chart of status.operating\n",
    "\n",
    "# Create pie chart of roller coasters\n"
   ]
  },
  {
   "cell_type": "markdown",
   "metadata": {},
   "source": [
    "9. `.scatter()` is another useful function in matplotlib that you might not have seen before. `.scatter()` produces a scatter plot, which is similar to `.plot()` in that it plots points on a figure. `.scatter()`, however, does not connect the points with a line. This allows you to analyze the relationship between two variables. Find [`.scatter()`'s documentation here](https://matplotlib.org/stable/api/_as_gen/matplotlib.pyplot.scatter.html).\n",
    "\n",
    "   Write a function that creates a scatter plot of two numeric columns of the roller coaster DataFrame. Your function should take the roller coaster DataFrame and two-column names as arguments. Make sure to include informative labels that describe your visualization.\n",
    "   \n",
    "   Call your function with the roller coaster DataFrame and two-column names."
   ]
  },
  {
   "cell_type": "code",
   "execution_count": 9,
   "metadata": {},
   "outputs": [],
   "source": [
    "# 9\n",
    "# Create a function to plot scatter of any two columns\n",
    "\n",
    "# Create a function to plot scatter of speed vs height\n",
    "\n",
    "# Create a scatter plot of roller coaster height by speed\n"
   ]
  },
  {
   "cell_type": "markdown",
   "metadata": {},
   "source": [
    "10. Part of the fun of data analysis and visualization is digging into the data you have and answering questions that come to your mind.\n",
    "\n",
    "    Some questions you might want to answer with the datasets provided include:\n",
    "    - What roller coaster seating type is most popular? And do different seating types result in higher/faster/longer roller coasters?\n",
    "    - Do roller coaster manufactures have any specialties (do they focus on speed, height, seating type, or inversions)?\n",
    "    - Do amusement parks have any specialties?\n",
    "    \n",
    "    What visualizations can you create that answer these questions, and any others that come to you? Share the questions you ask and the accompanying visualizations you create on the Codecademy forums."
   ]
  },
  {
   "cell_type": "code",
   "execution_count": null,
   "metadata": {},
   "outputs": [],
   "source": []
  }
 ],
 "metadata": {
  "kernelspec": {
   "display_name": "base",
   "language": "python",
   "name": "python3"
  },
  "language_info": {
   "codemirror_mode": {
    "name": "ipython",
    "version": 3
   },
   "file_extension": ".py",
   "mimetype": "text/x-python",
   "name": "python",
   "nbconvert_exporter": "python",
   "pygments_lexer": "ipython3",
   "version": "3.11.11"
  }
 },
 "nbformat": 4,
 "nbformat_minor": 2
}
